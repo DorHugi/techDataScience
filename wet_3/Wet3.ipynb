{
 "cells": [
  {
   "cell_type": "code",
   "execution_count": 5,
   "metadata": {
    "collapsed": true
   },
   "outputs": [],
   "source": [
    "%matplotlib inline\n",
    "\n",
    "import numpy as np\n",
    "import matplotlib.pyplot as plt\n",
    "import pandas as pd\n",
    "plt.style.use('ggplot') #Make the graphs pretty :) "
   ]
  },
  {
   "cell_type": "code",
   "execution_count": 6,
   "metadata": {
    "collapsed": false
   },
   "outputs": [],
   "source": [
    "#Load data:\n",
    "\n",
    "df = pd.DataFrame.from_csv('sonar.all-data',index_col=None)\n",
    "#Create columns list. EB stands for Energy band\n",
    "cols = ['EB'+str(i) for i in range(1,len(df.columns))] + ['Class']\n",
    "df.columns = cols"
   ]
  },
  {
   "cell_type": "markdown",
   "metadata": {},
   "source": [
    "# Part B. data description:\n"
   ]
  },
  {
   "cell_type": "markdown",
   "metadata": {},
   "source": [
    "The data contains patterns of sonar projected upon cylindircal rocks, and cylndrical metal objects.\n",
    "The data includes 207 samples, and 60 features. Each feature represents the energy in a different energy band, each row represents a different experiment (measurement - the sonar returned from the object). The data also includes the class (rock vs metal) for each experiment."
   ]
  },
  {
   "cell_type": "code",
   "execution_count": 7,
   "metadata": {
    "collapsed": false
   },
   "outputs": [
    {
     "data": {
      "text/html": [
       "<div>\n",
       "<table border=\"1\" class=\"dataframe\">\n",
       "  <thead>\n",
       "    <tr style=\"text-align: right;\">\n",
       "      <th></th>\n",
       "      <th>EB1</th>\n",
       "      <th>EB2</th>\n",
       "      <th>EB3</th>\n",
       "      <th>EB4</th>\n",
       "      <th>EB5</th>\n",
       "      <th>EB6</th>\n",
       "      <th>EB7</th>\n",
       "      <th>EB8</th>\n",
       "      <th>EB9</th>\n",
       "      <th>EB10</th>\n",
       "      <th>...</th>\n",
       "      <th>EB51</th>\n",
       "      <th>EB52</th>\n",
       "      <th>EB53</th>\n",
       "      <th>EB54</th>\n",
       "      <th>EB55</th>\n",
       "      <th>EB56</th>\n",
       "      <th>EB57</th>\n",
       "      <th>EB58</th>\n",
       "      <th>EB59</th>\n",
       "      <th>EB60</th>\n",
       "    </tr>\n",
       "  </thead>\n",
       "  <tbody>\n",
       "    <tr>\n",
       "      <th>mean</th>\n",
       "      <td>0.029208</td>\n",
       "      <td>0.038443</td>\n",
       "      <td>0.043837</td>\n",
       "      <td>0.054053</td>\n",
       "      <td>0.075105</td>\n",
       "      <td>0.104599</td>\n",
       "      <td>0.121591</td>\n",
       "      <td>0.134677</td>\n",
       "      <td>0.177361</td>\n",
       "      <td>0.208245</td>\n",
       "      <td>...</td>\n",
       "      <td>0.016034</td>\n",
       "      <td>0.013472</td>\n",
       "      <td>0.010729</td>\n",
       "      <td>0.010917</td>\n",
       "      <td>0.009300</td>\n",
       "      <td>0.008181</td>\n",
       "      <td>0.007771</td>\n",
       "      <td>0.007947</td>\n",
       "      <td>0.007936</td>\n",
       "      <td>0.006523</td>\n",
       "    </tr>\n",
       "    <tr>\n",
       "      <th>std</th>\n",
       "      <td>0.023038</td>\n",
       "      <td>0.033040</td>\n",
       "      <td>0.038521</td>\n",
       "      <td>0.046583</td>\n",
       "      <td>0.055669</td>\n",
       "      <td>0.059247</td>\n",
       "      <td>0.061897</td>\n",
       "      <td>0.085340</td>\n",
       "      <td>0.118311</td>\n",
       "      <td>0.134741</td>\n",
       "      <td>...</td>\n",
       "      <td>0.012027</td>\n",
       "      <td>0.009628</td>\n",
       "      <td>0.007071</td>\n",
       "      <td>0.007310</td>\n",
       "      <td>0.007103</td>\n",
       "      <td>0.005719</td>\n",
       "      <td>0.005756</td>\n",
       "      <td>0.006485</td>\n",
       "      <td>0.006196</td>\n",
       "      <td>0.005038</td>\n",
       "    </tr>\n",
       "    <tr>\n",
       "      <th>max</th>\n",
       "      <td>0.137100</td>\n",
       "      <td>0.233900</td>\n",
       "      <td>0.305900</td>\n",
       "      <td>0.426400</td>\n",
       "      <td>0.401000</td>\n",
       "      <td>0.382300</td>\n",
       "      <td>0.372900</td>\n",
       "      <td>0.459000</td>\n",
       "      <td>0.682800</td>\n",
       "      <td>0.710600</td>\n",
       "      <td>...</td>\n",
       "      <td>0.100400</td>\n",
       "      <td>0.070900</td>\n",
       "      <td>0.039000</td>\n",
       "      <td>0.035200</td>\n",
       "      <td>0.044700</td>\n",
       "      <td>0.039400</td>\n",
       "      <td>0.035500</td>\n",
       "      <td>0.044000</td>\n",
       "      <td>0.036400</td>\n",
       "      <td>0.043900</td>\n",
       "    </tr>\n",
       "  </tbody>\n",
       "</table>\n",
       "<p>3 rows × 60 columns</p>\n",
       "</div>"
      ],
      "text/plain": [
       "           EB1       EB2       EB3       EB4       EB5       EB6       EB7  \\\n",
       "mean  0.029208  0.038443  0.043837  0.054053  0.075105  0.104599  0.121591   \n",
       "std   0.023038  0.033040  0.038521  0.046583  0.055669  0.059247  0.061897   \n",
       "max   0.137100  0.233900  0.305900  0.426400  0.401000  0.382300  0.372900   \n",
       "\n",
       "           EB8       EB9      EB10    ...         EB51      EB52      EB53  \\\n",
       "mean  0.134677  0.177361  0.208245    ...     0.016034  0.013472  0.010729   \n",
       "std   0.085340  0.118311  0.134741    ...     0.012027  0.009628  0.007071   \n",
       "max   0.459000  0.682800  0.710600    ...     0.100400  0.070900  0.039000   \n",
       "\n",
       "          EB54      EB55      EB56      EB57      EB58      EB59      EB60  \n",
       "mean  0.010917  0.009300  0.008181  0.007771  0.007947  0.007936  0.006523  \n",
       "std   0.007310  0.007103  0.005719  0.005756  0.006485  0.006196  0.005038  \n",
       "max   0.035200  0.044700  0.039400  0.035500  0.044000  0.036400  0.043900  \n",
       "\n",
       "[3 rows x 60 columns]"
      ]
     },
     "execution_count": 7,
     "metadata": {},
     "output_type": "execute_result"
    }
   ],
   "source": [
    "#General stats of the data:\n",
    "df.describe().loc[['mean','std','max']]\n"
   ]
  },
  {
   "cell_type": "code",
   "execution_count": 9,
   "metadata": {
    "collapsed": false
   },
   "outputs": [
    {
     "data": {
      "text/plain": [
       "<matplotlib.axes._subplots.AxesSubplot at 0xa265828>"
      ]
     },
     "execution_count": 9,
     "metadata": {},
     "output_type": "execute_result"
    },
    {
     "data": {
      "image/png": "[encoded data removed]",
      "text/plain": [
       "<matplotlib.figure.Figure at 0x99e2208>"
      ]
     },
     "metadata": {},
     "output_type": "display_data"
    }
   ],
   "source": [
    "#Labels distribution\n",
    "sr = df['Class']\n",
    "\n",
    "sr.value_counts().plot(kind='bar')\n"
   ]
  },
  {
   "cell_type": "code",
   "execution_count": null,
   "metadata": {
    "collapsed": true
   },
   "outputs": [],
   "source": []
  }
 ],
 "metadata": {
  "kernelspec": {
   "display_name": "Python 3",
   "language": "python",
   "name": "python3"
  },
  "language_info": {
   "codemirror_mode": {
    "name": "ipython",
    "version": 3
   },
   "file_extension": ".py",
   "mimetype": "text/x-python",
   "name": "python",
   "nbconvert_exporter": "python",
   "pygments_lexer": "ipython3",
   "version": "3.6.0"
  }
 },
 "nbformat": 4,
 "nbformat_minor": 2
}
