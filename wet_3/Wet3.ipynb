{
 "cells": [
  {
   "cell_type": "code",
   "execution_count": 1,
   "metadata": {
    "collapsed": true
   },
   "outputs": [],
   "source": [
    "%matplotlib inline\n",
    "\n",
    "import numpy as np\n",
    "import matplotlib.pyplot as plt\n",
    "import pandas as pd\n",
    "plt.style.use('ggplot') #Make the graphs pretty :) "
   ]
  },
  {
   "cell_type": "code",
   "execution_count": 2,
   "metadata": {
    "collapsed": false
   },
   "outputs": [],
   "source": [
    "#Load data:\n",
    "\n",
    "df = pd.DataFrame.from_csv('sonar.all-data',index_col=None)\n",
    "#Create columns list. EB stands for Energy band\n",
    "cols = ['EB'+str(i) for i in range(1,len(df.columns))] + ['Class']\n",
    "df.columns = cols"
   ]
  },
  {
   "cell_type": "markdown",
   "metadata": {},
   "source": [
    "# Part B. data description:\n"
   ]
  },
  {
   "cell_type": "markdown",
   "metadata": {},
   "source": [
    "The data contains patterns of sonar projected upon cylindircal rocks, and cylndrical metal objects.\n",
    "The data includes 207 samples, and 60 features. Each feature represents the energy in a different energy band, each row represents a different experiment (measurement - the sonar returned from the object). The data also includes the class (rock vs metal) for each experiment."
   ]
  },
  {
   "cell_type": "code",
   "execution_count": 3,
   "metadata": {
    "collapsed": false
   },
   "outputs": [
    {
     "data": {
      "text/html": [
       "<div>\n",
       "<table border=\"1\" class=\"dataframe\">\n",
       "  <thead>\n",
       "    <tr style=\"text-align: right;\">\n",
       "      <th></th>\n",
       "      <th>EB1</th>\n",
       "      <th>EB2</th>\n",
       "      <th>EB3</th>\n",
       "      <th>EB4</th>\n",
       "      <th>EB5</th>\n",
       "      <th>EB6</th>\n",
       "      <th>EB7</th>\n",
       "      <th>EB8</th>\n",
       "      <th>EB9</th>\n",
       "      <th>EB10</th>\n",
       "      <th>...</th>\n",
       "      <th>EB51</th>\n",
       "      <th>EB52</th>\n",
       "      <th>EB53</th>\n",
       "      <th>EB54</th>\n",
       "      <th>EB55</th>\n",
       "      <th>EB56</th>\n",
       "      <th>EB57</th>\n",
       "      <th>EB58</th>\n",
       "      <th>EB59</th>\n",
       "      <th>EB60</th>\n",
       "    </tr>\n",
       "  </thead>\n",
       "  <tbody>\n",
       "    <tr>\n",
       "      <th>mean</th>\n",
       "      <td>0.029208</td>\n",
       "      <td>0.038443</td>\n",
       "      <td>0.043837</td>\n",
       "      <td>0.054053</td>\n",
       "      <td>0.075105</td>\n",
       "      <td>0.104599</td>\n",
       "      <td>0.121591</td>\n",
       "      <td>0.134677</td>\n",
       "      <td>0.177361</td>\n",
       "      <td>0.208245</td>\n",
       "      <td>...</td>\n",
       "      <td>0.016034</td>\n",
       "      <td>0.013472</td>\n",
       "      <td>0.010729</td>\n",
       "      <td>0.010917</td>\n",
       "      <td>0.009300</td>\n",
       "      <td>0.008181</td>\n",
       "      <td>0.007771</td>\n",
       "      <td>0.007947</td>\n",
       "      <td>0.007936</td>\n",
       "      <td>0.006523</td>\n",
       "    </tr>\n",
       "    <tr>\n",
       "      <th>std</th>\n",
       "      <td>0.023038</td>\n",
       "      <td>0.033040</td>\n",
       "      <td>0.038521</td>\n",
       "      <td>0.046583</td>\n",
       "      <td>0.055669</td>\n",
       "      <td>0.059247</td>\n",
       "      <td>0.061897</td>\n",
       "      <td>0.085340</td>\n",
       "      <td>0.118311</td>\n",
       "      <td>0.134741</td>\n",
       "      <td>...</td>\n",
       "      <td>0.012027</td>\n",
       "      <td>0.009628</td>\n",
       "      <td>0.007071</td>\n",
       "      <td>0.007310</td>\n",
       "      <td>0.007103</td>\n",
       "      <td>0.005719</td>\n",
       "      <td>0.005756</td>\n",
       "      <td>0.006485</td>\n",
       "      <td>0.006196</td>\n",
       "      <td>0.005038</td>\n",
       "    </tr>\n",
       "    <tr>\n",
       "      <th>max</th>\n",
       "      <td>0.137100</td>\n",
       "      <td>0.233900</td>\n",
       "      <td>0.305900</td>\n",
       "      <td>0.426400</td>\n",
       "      <td>0.401000</td>\n",
       "      <td>0.382300</td>\n",
       "      <td>0.372900</td>\n",
       "      <td>0.459000</td>\n",
       "      <td>0.682800</td>\n",
       "      <td>0.710600</td>\n",
       "      <td>...</td>\n",
       "      <td>0.100400</td>\n",
       "      <td>0.070900</td>\n",
       "      <td>0.039000</td>\n",
       "      <td>0.035200</td>\n",
       "      <td>0.044700</td>\n",
       "      <td>0.039400</td>\n",
       "      <td>0.035500</td>\n",
       "      <td>0.044000</td>\n",
       "      <td>0.036400</td>\n",
       "      <td>0.043900</td>\n",
       "    </tr>\n",
       "  </tbody>\n",
       "</table>\n",
       "<p>3 rows × 60 columns</p>\n",
       "</div>"
      ],
      "text/plain": [
       "           EB1       EB2       EB3       EB4       EB5       EB6       EB7  \\\n",
       "mean  0.029208  0.038443  0.043837  0.054053  0.075105  0.104599  0.121591   \n",
       "std   0.023038  0.033040  0.038521  0.046583  0.055669  0.059247  0.061897   \n",
       "max   0.137100  0.233900  0.305900  0.426400  0.401000  0.382300  0.372900   \n",
       "\n",
       "           EB8       EB9      EB10    ...         EB51      EB52      EB53  \\\n",
       "mean  0.134677  0.177361  0.208245    ...     0.016034  0.013472  0.010729   \n",
       "std   0.085340  0.118311  0.134741    ...     0.012027  0.009628  0.007071   \n",
       "max   0.459000  0.682800  0.710600    ...     0.100400  0.070900  0.039000   \n",
       "\n",
       "          EB54      EB55      EB56      EB57      EB58      EB59      EB60  \n",
       "mean  0.010917  0.009300  0.008181  0.007771  0.007947  0.007936  0.006523  \n",
       "std   0.007310  0.007103  0.005719  0.005756  0.006485  0.006196  0.005038  \n",
       "max   0.035200  0.044700  0.039400  0.035500  0.044000  0.036400  0.043900  \n",
       "\n",
       "[3 rows x 60 columns]"
      ]
     },
     "execution_count": 3,
     "metadata": {},
     "output_type": "execute_result"
    }
   ],
   "source": [
    "#General stats of the data:\n",
    "df.describe().loc[['mean','std','max']]\n"
   ]
  },
  {
   "cell_type": "code",
   "execution_count": 4,
   "metadata": {
    "collapsed": false
   },
   "outputs": [
    {
     "data": {
      "text/plain": [
       "<matplotlib.axes._subplots.AxesSubplot at 0x9529278>"
      ]
     },
     "execution_count": 4,
     "metadata": {},
     "output_type": "execute_result"
    },
    {
     "data": {
      "image/png": "[encoded data removed]",
      "text/plain": [
       "<matplotlib.figure.Figure at 0x9529198>"
      ]
     },
     "metadata": {},
     "output_type": "display_data"
    }
   ],
   "source": [
    "#Labels distribution\n",
    "sr = df['Class']\n",
    "\n",
    "sr.value_counts().plot(kind='bar')\n"
   ]
  },
  {
   "cell_type": "markdown",
   "metadata": {},
   "source": [
    "As we can see, there is a simillar number of samples of each class (R/M). Approximately 90~ each (there are slightly more samples of metal)."
   ]
  },
  {
   "cell_type": "markdown",
   "metadata": {},
   "source": [
    "**Statistics of each class:**"
   ]
  },
  {
   "cell_type": "code",
   "execution_count": 5,
   "metadata": {
    "collapsed": false
   },
   "outputs": [
    {
     "data": {
      "text/plain": [
       "<matplotlib.axes._subplots.AxesSubplot at 0xa26acf8>"
      ]
     },
     "execution_count": 5,
     "metadata": {},
     "output_type": "execute_result"
    },
    {
     "data": {
      "image/png": "[encoded data removed]",
      "text/plain": [
       "<matplotlib.figure.Figure at 0x97f53c8>"
      ]
     },
     "metadata": {},
     "output_type": "display_data"
    },
    {
     "data": {
      "image/png": "[encoded data removed]",
      "text/plain": [
       "<matplotlib.figure.Figure at 0x97f5160>"
      ]
     },
     "metadata": {},
     "output_type": "display_data"
    }
   ],
   "source": [
    "classDf =  df.groupby('Class')\n",
    "classDf.mean().plot(kind='bar',legend=False,title='Classes mean comparison')\n",
    "classDf.var().plot(kind='bar',legend=False,title='Classes variance comparison')\n"
   ]
  },
  {
   "cell_type": "markdown",
   "metadata": {},
   "source": [
    "As we can see, it seems that the average is simillar between the classes, but the variance shows higher difference."
   ]
  },
  {
   "cell_type": "markdown",
   "metadata": {},
   "source": [
    "# Part C: Compute the PCA\n",
    "**We shall use simillar methods to those we've seen in the tutorial.\n",
    "For efficiancy purposes, we will compute the eigenvectors/values by ourselves (as we would need a different number of them each iteration). "
   ]
  },
  {
   "cell_type": "code",
   "execution_count": 6,
   "metadata": {
    "collapsed": false
   },
   "outputs": [
    {
     "data": {
      "image/png": "[encoded data removed]",
      "text/plain": [
       "<matplotlib.figure.Figure at 0xa5ea898>"
      ]
     },
     "metadata": {},
     "output_type": "display_data"
    }
   ],
   "source": [
    "#Substract means, and calc cov matrix.\n",
    "#From the recitation:\n",
    "\n",
    "X = df.iloc[:,:-1].values\n",
    "X = X.T\n",
    "mean_vec = np.mean(X, axis=1)\n",
    "X_zero_mean = (X.T-mean_vec).T\n",
    "\n",
    "cov_mat = X_zero_mean.dot(X_zero_mean.T) / (X.shape[1]-1)\n",
    "\n",
    "#Calculate eigenvalues/vectors, and sort them in decreasing order.\n",
    "\n",
    "eig_vals, eig_vecs = np.linalg.eig(cov_mat)\n",
    "\n",
    "eig_pairs = [(np.abs(eig_vals[i]), eig_vecs[:,i]) for i in range(len(eig_vals))]\n",
    "eig_pairs.sort(reverse=True)\n",
    "\n",
    "\n",
    "#Let us recall that the sum of eigenvalues is the variance. \n",
    "#Hence, lets visualize the ratio between the eigenvlaues: \n",
    "tot = sum(eig_vals)\n",
    "var_exp = [(i / tot) for i in sorted(eig_vals, reverse=True)]\n",
    "cum_var_exp = np.cumsum(var_exp)\n",
    "plt.plot(cum_var_exp) \n",
    "plt.title('Sum of top k eigenvalues, normalized by the total sum')\n",
    "plt.show()\n",
    "\n"
   ]
  },
  {
   "cell_type": "markdown",
   "metadata": {},
   "source": [
    "**As we can see, after approximately the top 25 eigenvlaues, the contribution of the remaining becomes almost insignificant. Let us demonstrate it with the gradient as well:**"
   ]
  },
  {
   "cell_type": "code",
   "execution_count": 7,
   "metadata": {
    "collapsed": false
   },
   "outputs": [
    {
     "data": {
      "image/png": "[encoded data removed]",
      "text/plain": [
       "<matplotlib.figure.Figure at 0x9a495c0>"
      ]
     },
     "metadata": {},
     "output_type": "display_data"
    }
   ],
   "source": [
    "cumSumGradient = np.gradient(cum_var_exp)\n",
    "plt.plot(cumSumGradient)\n",
    "plt.title('Derivative of the normalized eigenvalues sum')\n",
    "\n",
    "plt.show()"
   ]
  },
  {
   "cell_type": "markdown",
   "metadata": {},
   "source": [
    "**As we can see, the derivative tends towards 0, hence no significant contribution to the total sum/variance**"
   ]
  },
  {
   "cell_type": "code",
   "execution_count": 8,
   "metadata": {
    "collapsed": false
   },
   "outputs": [
    {
     "name": "stdout",
     "output_type": "stream",
     "text": [
      "The dimentions of X2d are: (2, 207). The dimensions of X3d are: (3, 207)\n"
     ]
    }
   ],
   "source": [
    "#Now, after we've computed the eigenvectors and values, let us project our data into 2/3 dimentional subspace.\n",
    "W2d = eig_vecs[:,0:2]\n",
    "W3d = eig_vecs[:,0:3]\n",
    "\n",
    "#After we've calculated the transformation matrices, let us compute the projected data.\n",
    "\n",
    "X2d = W2d.T.dot(X)\n",
    "X3d = W3d.T.dot(X)\n",
    "\n",
    "#As expected, the new shapes of X are (dim,No* of samples) - in our case (2/3,207)\n",
    "print ('The dimentions of X2d are: {}. The dimensions of X3d are: {}'.format(X2d.shape,X3d.shape))\n",
    "\n",
    "\n"
   ]
  },
  {
   "cell_type": "markdown",
   "metadata": {},
   "source": [
    "# Part D: visualization"
   ]
  },
  {
   "cell_type": "code",
   "execution_count": null,
   "metadata": {
    "collapsed": false
   },
   "outputs": [],
   "source": [
    "\n"
   ]
  },
  {
   "cell_type": "markdown",
   "metadata": {},
   "source": [
    "# Part E: Compute the error curve"
   ]
  },
  {
   "cell_type": "code",
   "execution_count": 9,
   "metadata": {
    "collapsed": false
   },
   "outputs": [
    {
     "data": {
      "text/plain": [
       "[<matplotlib.lines.Line2D at 0xa96df98>]"
      ]
     },
     "execution_count": 9,
     "metadata": {},
     "output_type": "execute_result"
    },
    {
     "data": {
      "image/png": "[encoded data removed]",
      "text/plain": [
       "<matplotlib.figure.Figure at 0xa7f82b0>"
      ]
     },
     "metadata": {},
     "output_type": "display_data"
    }
   ],
   "source": [
    "#Let us compute the reconstruction error:\n",
    "X_norm = np.linalg.norm(X_zero_mean,ord='fro')\n",
    "error = []\n",
    "for i in range(len(eig_vals),0,-1):\n",
    "    W = eig_vecs[:,0:i]\n",
    "#     print(W)\n",
    "    diff = ((np.linalg.pinv(W)).T).dot((W.T).dot(X_zero_mean))-X_zero_mean\n",
    "    error.append(np.square(np.linalg.norm(diff,ord='fro')/X_norm))\n",
    "\n",
    "error = error[::-1]\n",
    "\n",
    "plt.plot(error)\n"
   ]
  },
  {
   "cell_type": "markdown",
   "metadata": {},
   "source": [
    "**Simillarly to our conclusions from the eigenvalues graphs, here we can see that the error remains almost the same after about ~30 eigenvalues are being taken.**"
   ]
  },
  {
   "cell_type": "markdown",
   "metadata": {
    "collapsed": true
   },
   "source": [
    "# Part F: Determain how many vectors are required for sufficient reconstruction."
   ]
  },
  {
   "cell_type": "code",
   "execution_count": 13,
   "metadata": {
    "collapsed": false
   },
   "outputs": [
    {
     "name": "stdout",
     "output_type": "stream",
     "text": [
      "0 0.679962836733\n",
      "1 0.475623684594\n",
      "2 0.390133303147\n",
      "3 0.325674269781\n",
      "4 0.273991116838\n",
      "5 0.229361656091\n",
      "6 0.187648818058\n",
      "7 0.161235466634\n",
      "8 0.138850128232\n",
      "9 0.11982839017\n",
      "10 0.104150977831\n",
      "11 0.090602279915\n",
      "12 0.0790112940391\n",
      "13 0.0694872957408\n",
      "14 0.0608943715612\n",
      "15 0.0532068446482\n",
      "16 0.0460172108298\n",
      "The number of vectors required for 0.95 sucess rate is 16 \n",
      "0 0.679962836733\n",
      "1 0.475623684594\n",
      "2 0.390133303147\n",
      "3 0.325674269781\n",
      "4 0.273991116838\n",
      "5 0.229361656091\n",
      "6 0.187648818058\n",
      "7 0.161235466634\n",
      "8 0.138850128232\n",
      "9 0.11982839017\n",
      "10 0.104150977831\n",
      "11 0.090602279915\n",
      "12 0.0790112940391\n",
      "13 0.0694872957408\n",
      "14 0.0608943715612\n",
      "15 0.0532068446482\n",
      "16 0.0460172108298\n",
      "17 0.040339585852\n",
      "18 0.0350650444454\n",
      "19 0.0301848097554\n",
      "20 0.0265474337236\n",
      "21 0.0236034396529\n",
      "22 0.0209153422673\n",
      "23 0.0185204642031\n",
      "24 0.0161912142344\n",
      "25 0.0140281092766\n",
      "26 0.0124830203419\n",
      "27 0.0110739307708\n",
      "28 0.00978074366956\n",
      "The number of vectors required for 0.99 sucess rate is 28 \n"
     ]
    }
   ],
   "source": [
    "def getVecNum(errorArr,sucess): #Return the minimal number of eigen vectors, required for a certain error level.\n",
    "    error = 1- sucess\n",
    "    for idx,val in enumerate(errorArr):\n",
    "        if val < error:\n",
    "            return idx\n",
    "        \n",
    "    return None #No suitable value was found.\n",
    "\n",
    "for i in [0.95,0.99]:\n",
    "    print ('The number of vectors required for {} sucess rate is {} '.format(i,getVecNum(error,i)))\n",
    "\n",
    "        "
   ]
  },
  {
   "cell_type": "markdown",
   "metadata": {},
   "source": []
  }
 ],
 "metadata": {
  "kernelspec": {
   "display_name": "Python 3",
   "language": "python",
   "name": "python3"
  },
  "language_info": {
   "codemirror_mode": {
    "name": "ipython",
    "version": 3
   },
   "file_extension": ".py",
   "mimetype": "text/x-python",
   "name": "python",
   "nbconvert_exporter": "python",
   "pygments_lexer": "ipython3",
   "version": "3.6.0"
  }
 },
 "nbformat": 4,
 "nbformat_minor": 2
}
