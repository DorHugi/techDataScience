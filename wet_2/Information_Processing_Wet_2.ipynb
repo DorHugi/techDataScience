{
 "cells": [
  {
   "cell_type": "code",
   "execution_count": null,
   "metadata": {
    "collapsed": true
   },
   "outputs": [],
   "source": [
    "Informtion Processing Wet 2"
   ]
  },
  {
   "cell_type": "code",
   "execution_count": null,
   "metadata": {
    "collapsed": false
   },
   "outputs": [],
   "source": [
    "import numpy as np\n",
    "import math\n",
    "import matplotlib.pyplot as plt\n",
    "%matplotlib inline\n",
    "%load_ext autoreload\n",
    "%autoreload 2"
   ]
  },
  {
   "cell_type": "code",
   "execution_count": 27,
   "metadata": {
    "collapsed": false
   },
   "outputs": [
    {
     "name": "stdout",
     "output_type": "stream",
     "text": [
      "(0.951, 'percentage of time the interval contained the true CDF')\n"
     ]
    },
    {
     "data": {
      "image/png": "[encoded data removed]",
      "text/plain": [
       "<matplotlib.figure.Figure at 0xb18ca20>"
      ]
     },
     "metadata": {},
     "output_type": "display_data"
    }
   ],
   "source": [
    "# Question 1: \n",
    "\n",
    "# A function which creates a range of x values, in order to compare the true and empiric CDF\n",
    "def create_x_range(x,y,jump):\n",
    "    frange = []\n",
    "    current_x = x\n",
    "    while current_x < y :\n",
    "        frange += [current_x]\n",
    "        current_x += jump\n",
    "    return frange\n",
    "\n",
    "# The true normal CDF\n",
    "from scipy.stats import norm\n",
    "def cal_CDF(x_values):\n",
    "    CDF = []\n",
    "    for x in x_values:\n",
    "        CDF.append(norm.cdf(x))\n",
    "    return CDF\n",
    "\n",
    "mu, sigma = 0, 1 # mean and standard deviation\n",
    "num_samples = 100\n",
    "\n",
    "num_CDF_outside_band = 0  # The number of times that the true CDF is outside the confidence band\n",
    "# The best and worst empirical CDF in matter of max(empiric_CDF(x) - true_CDF(x)):\n",
    "best_empirical_CDF = [] \n",
    "global_best_CDF_diff = 0\n",
    "worst_empirical_CDF = []\n",
    "global_worst_CDF_diff = 0\n",
    "\n",
    "# calculate true CDF\n",
    "x_values = create_x_range(-2,2,0.01)\n",
    "true_CDF = cal_CDF(x_values) \n",
    "\n",
    "for j in range(1,1000):\n",
    "    # generate 100 samples\n",
    "    samples = np.random.normal(mu, sigma, num_samples)\n",
    "    \n",
    "    # calculate confidence band\n",
    "    sample_sigma = np.var(samples, ddof=1)\n",
    "    alpha = 0.05\n",
    "    confidence_interval = math.sqrt((math.log(2/alpha))/float(2*num_samples))\n",
    "    \n",
    "    # calculate empirical CDF\n",
    "    empirical_CDF = []\n",
    "    empiric_val = 0\n",
    "    i = 0\n",
    "    for x in x_values:\n",
    "        empirical_CDF.append(0)\n",
    "        for sample in samples:\n",
    "            if (sample < x):\n",
    "                empirical_CDF[i] += 1\n",
    "        empirical_CDF[i] = empirical_CDF[i] / float(num_samples)\n",
    "        i += 1\n",
    "    \n",
    "    # calculate whether the true CDF is inside the cofidence band, and the best and worst empirical_CDF\n",
    "    max_CDF_diff = 0\n",
    "    i = 0\n",
    "    for x in x_values:\n",
    "        diff = abs(empirical_CDF[i] - true_CDF[i])\n",
    "        max_CDF_diff = max(max_CDF_diff, diff)\n",
    "        i += 1\n",
    "    \n",
    "    if (max_CDF_diff > confidence_interval):\n",
    "        num_CDF_outside_band += 1\n",
    "    \n",
    "    if (max_CDF_diff > global_worst_CDF_diff):\n",
    "        global_worst_CDF_diff = max_CDF_diff\n",
    "        worst_empirical_CDF = empirical_CDF[:]\n",
    "        \n",
    "    if ((max_CDF_diff < global_best_CDF_diff) or (global_best_CDF_diff == 0)):\n",
    "        global_best_CDF_diff = max_CDF_diff\n",
    "        best_empirical_CDF = empirical_CDF[:]\n",
    "\n",
    "# print results:\n",
    "# precentage of CDF outside confidence band:\n",
    "CDF_outside_band_percentage = num_CDF_outside_band / float(1000)\n",
    "print ((1-CDF_outside_band_percentage), \"percentage of time the interval contained the true CDF\")\n",
    "\n",
    "# plot the true, best and worst CDF:\n",
    "true, = plt.plot(x_values, true_CDF, 'b', label=\"true CDF\")\n",
    "best, = plt.plot(x_values, best_empirical_CDF, 'r', label=\"best empiric CDF\")\n",
    "worst, = plt.plot(x_values, worst_empirical_CDF, 'g', label=\"worst empiric CDF\")\n",
    "plt.legend(loc='upper left')\n",
    "plt.ylabel('CDF(x)')\n",
    "plt.xlabel('x values')\n",
    "plt.title(\"CDF comparison\")\n",
    "plt.show()\n",
    "    \n",
    "    "
   ]
  },
  {
   "cell_type": "code",
   "execution_count": null,
   "metadata": {
    "collapsed": false,
    "scrolled": true
   },
   "outputs": [],
   "source": [
    "# Question 2: \n",
    "\n",
    "import pandas as pd\n",
    "\n",
    "samsungData = pd.read_csv('C:\\Technion\\Semester 6\\Inforamtion_Processing\\Tutorial_1\\samsungData.csv')\n",
    "samsungData = samsungData.drop(['Unnamed: 0'], axis=1)\n",
    "\n",
    "\n",
    "# Question 3:\n",
    "num_examples, num_features = samsungData.shape\n",
    "\n",
    "#calculate the correlation between each pair of features:\n",
    "corr_df = samsungData.corr()\n",
    "#corr_df.to_csv('C:\\Technion\\Semester 6\\Inforamtion_Processing\\Wet_2\\corr_df.csv')\n",
    "\n",
    "# present the data as heatmap:\n",
    "#plt.pcolor(corr_df)\n",
    "#plt.yticks(np.arange(0.5, len(corr_df.index), 1), corr_df.index)\n",
    "#plt.xticks(np.arange(0.5, len(corr_df.columns), 1), corr_df.columns)\n",
    "#plt.show()\n",
    "\n",
    "\n",
    "# Question 4:\n",
    "# find the two most correlated features:\n",
    "# sort the correlation dataframe, and exclude cells which represent the same feature (which means: variance and not correlation)\n",
    "#corr_zero_var = corr_df\n",
    "labels = list(corr_df.index)\n",
    "for i in range(0, (num_features-1)):\n",
    "    corr_df.set_value(labels[i],labels[i],0)\n",
    "sorted_corr_df = corr_df.abs().unstack().sort_values()\n",
    "\n",
    "print(\"The two most correlated features are: \", (list(sorted_corr_df.index))[-1])\n",
    "print \"One can notice that the most correlated features are those which measure the same aspect\"\n",
    "\n",
    "\n",
    "# Question 5:\n",
    "# group the features by class:\n",
    "corr_by_class = samsungData.groupby('activity').corr()\n",
    "# calculate the correlation between each pair of features per class:\n",
    "#corr_by_class.to_csv('C:\\Technion\\Semester 6\\Inforamtion_Processing\\Wet_2\\corr_by_class.csv')\n",
    "\n",
    "# present the data as heatmap:\n",
    "plt.pcolor(corr_by_class)\n",
    "plt.yticks(np.arange(0.5, len(corr_by_class.index), 1), corr_by_class.index)\n",
    "plt.xticks(np.arange(0.5, len(corr_by_class.columns), 1), corr_by_class.columns)\n",
    "plt.show()\n"
   ]
  },
  {
   "cell_type": "code",
   "execution_count": null,
   "metadata": {
    "collapsed": true
   },
   "outputs": [],
   "source": []
  }
 ],
 "metadata": {
  "kernelspec": {
   "display_name": "Python 2",
   "language": "python",
   "name": "python2"
  }
 },
 "nbformat": 4,
 "nbformat_minor": 2
}
