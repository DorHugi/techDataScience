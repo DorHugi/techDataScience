{
 "cells": [
  {
   "cell_type": "code",
   "execution_count": null,
   "metadata": {
    "collapsed": true
   },
   "outputs": [],
   "source": [
    "Informtion Processing Wet 2"
   ]
  },
  {
   "cell_type": "code",
   "execution_count": 10,
   "metadata": {
    "collapsed": false
   },
   "outputs": [],
   "source": [
    "import numpy as np\n",
    "import math\n",
    "import matplotlib.pyplot as plt\n",
    "%matplotlib inline\n",
    "%load_ext autoreload\n",
    "%autoreload 2"
   ]
  },
  {
   "cell_type": "code",
   "execution_count": 3,
   "metadata": {
    "collapsed": false
   },
   "outputs": [
    {
     "name": "stdout",
     "output_type": "stream",
     "text": [
      "(0.954, 'percentage of time the interval contained the true CDF')\n"
     ]
    },
    {
     "data": {
      "image/png": "[encoded data removed]",
      "text/plain": [
       "<matplotlib.figure.Figure at 0x936a4a8>"
      ]
     },
     "metadata": {},
     "output_type": "display_data"
    }
   ],
   "source": [
    "# Question 1: \n",
    "\n",
    "# A function which creates a range of x values, in order to compare the true and empiric CDF\n",
    "def create_x_range(x,y,jump):\n",
    "    frange = []\n",
    "    current_x = x\n",
    "    while current_x < y :\n",
    "        frange += [current_x]\n",
    "        current_x += jump\n",
    "    return frange\n",
    "\n",
    "# The true normal CDF\n",
    "from scipy.stats import norm\n",
    "def cal_CDF(x_values):\n",
    "    CDF = []\n",
    "    for x in x_values:\n",
    "        CDF.append(norm.cdf(x))\n",
    "    return CDF\n",
    "\n",
    "mu, sigma = 0, 1 # mean and standard deviation\n",
    "num_samples = 100\n",
    "\n",
    "num_CDF_outside_band = 0  # The number of times that the true CDF is outside the confidence band\n",
    "# The best and worst empirical CDF in matter of max(empiric_CDF(x) - true_CDF(x)):\n",
    "best_empirical_CDF = [] \n",
    "global_best_CDF_diff = 0\n",
    "worst_empirical_CDF = []\n",
    "global_worst_CDF_diff = 0\n",
    "\n",
    "# calculate true CDF\n",
    "x_values = create_x_range(-2,2,0.01)\n",
    "true_CDF = cal_CDF(x_values) \n",
    "\n",
    "for j in range(1,1000):\n",
    "    # generate 100 samples\n",
    "    samples = np.random.normal(mu, sigma, num_samples)\n",
    "    \n",
    "    # calculate confidence band\n",
    "    sample_sigma = np.var(samples, ddof=1)\n",
    "    alpha = 0.05\n",
    "    confidence_interval = math.sqrt((math.log(2/alpha))/float(2*num_samples))\n",
    "    \n",
    "    # calculate empirical CDF\n",
    "    empirical_CDF = []\n",
    "    empiric_val = 0\n",
    "    i = 0\n",
    "    for x in x_values:\n",
    "        empirical_CDF.append(0)\n",
    "        for sample in samples:\n",
    "            if (sample < x):\n",
    "                empirical_CDF[i] += 1\n",
    "        empirical_CDF[i] = empirical_CDF[i] / float(num_samples)\n",
    "        i += 1\n",
    "    \n",
    "    # calculate whether the true CDF is inside the cofidence band, and the best and worst empirical_CDF\n",
    "    max_CDF_diff = 0\n",
    "    i = 0\n",
    "    for x in x_values:\n",
    "        diff = abs(empirical_CDF[i] - true_CDF[i])\n",
    "        max_CDF_diff = max(max_CDF_diff, diff)\n",
    "        i += 1\n",
    "    \n",
    "    if (max_CDF_diff > confidence_interval):\n",
    "        num_CDF_outside_band += 1\n",
    "    \n",
    "    if (max_CDF_diff > global_worst_CDF_diff):\n",
    "        global_worst_CDF_diff = max_CDF_diff\n",
    "        worst_empirical_CDF = empirical_CDF[:]\n",
    "        \n",
    "    if ((max_CDF_diff < global_best_CDF_diff) or (global_best_CDF_diff == 0)):\n",
    "        global_best_CDF_diff = max_CDF_diff\n",
    "        best_empirical_CDF = empirical_CDF[:]\n",
    "\n",
    "# print results:\n",
    "# precentage of CDF outside confidence band:\n",
    "CDF_outside_band_percentage = num_CDF_outside_band / float(1000)\n",
    "print ((1-CDF_outside_band_percentage), \"percentage of time the interval contained the true CDF\")\n",
    "\n",
    "# plot the true, best and worst CDF:\n",
    "true, = plt.plot(x_values, true_CDF, 'b', label=\"true CDF\")\n",
    "best, = plt.plot(x_values, best_empirical_CDF, 'r', label=\"best empiric CDF\")\n",
    "worst, = plt.plot(x_values, worst_empirical_CDF, 'g', label=\"worst empiric CDF\")\n",
    "plt.legend(loc='upper left')\n",
    "plt.ylabel('CDF(x)')\n",
    "plt.xlabel('x values')\n",
    "plt.title(\"CDF comparison\")\n",
    "plt.show()\n",
    "    \n",
    "    "
   ]
  },
  {
   "cell_type": "code",
   "execution_count": null,
   "metadata": {
    "collapsed": false,
    "scrolled": true
   },
   "outputs": [],
   "source": [
    "# Question 2: \n",
    "\n",
    "import pandas as pd\n",
    "\n",
    "samsungData = pd.read_csv('C:\\Technion\\Semester 6\\Inforamtion_Processing\\Tutorial_1\\samsungData.csv')\n",
    "samsungData = samsungData.drop(['Unnamed: 0'], axis=1)\n",
    "\n",
    "\n",
    "# Question 3:\n",
    "num_examples, num_features = samsungData.shape\n",
    "\n",
    "#calculate the correlation between each pair of features:\n",
    "corr_df = samsungData.corr()\n",
    "#corr_df.to_csv('C:\\Technion\\Semester 6\\Inforamtion_Processing\\Wet_2\\corr_df.csv')\n",
    "\n",
    "# present the data as heatmap:\n",
    "#plt.pcolor(corr_df)\n",
    "#plt.yticks(np.arange(0.5, len(corr_df.index), 1))\n",
    "#plt.xticks(np.arange(0.5, len(corr_df.columns), 1))\n",
    "#plt.show()\n",
    "\n",
    "\n",
    "# Question 4:\n",
    "# find the two most correlated features:\n",
    "# sort the correlation dataframe, and exclude cells which represent the same feature (which means: variance and not correlation)\n",
    "\n",
    "labels = list(corr_df.index)\n",
    "for i in range(0, (num_features-1)):\n",
    "    corr_df.set_value(labels[i],labels[i],0)\n",
    "sorted_corr_df = corr_df.abs().unstack().sort_values()\n",
    "\n",
    "print(\"The two most correlated features are: \", (list(sorted_corr_df.index))[-1])\n",
    "print '''One can notice that the most correlated features are those which measure the same aspect,\n",
    "        and from that reason their correlation is almost 1'''\n",
    "\n",
    "\n",
    "\n"
   ]
  },
  {
   "cell_type": "code",
   "execution_count": null,
   "metadata": {
    "collapsed": false
   },
   "outputs": [],
   "source": [
    "import pandas as pd\n",
    "samsungData = pd.read_csv('C:\\Technion\\Semester 6\\Inforamtion_Processing\\Tutorial_1\\samsungData.csv')\n",
    "samsungData = samsungData.drop(['Unnamed: 0'], axis=1)\n",
    "num_examples, num_features = samsungData.shape\n",
    "\n",
    "# Question 5:\n",
    "# group the features by class:\n",
    "corr_by_class = samsungData.groupby('activity').corr()\n",
    "# calculate the correlation between each pair of features per class:\n",
    "#corr_by_class.to_csv('C:\\Technion\\Semester 6\\Inforamtion_Processing\\Wet_2\\corr_by_class.csv')\n",
    "\n",
    "# present the data as heatmap:\n",
    "#plt.pcolor(corr_by_class)\n",
    "#plt.yticks(np.arange(0.5, len(corr_by_class.index), 1))\n",
    "#plt.xticks(np.arange(0.5, len(corr_by_class.columns), 1))\n",
    "#plt.show()\n",
    "\n",
    "# Question 6:\n",
    "# find the two most correlated features (over all classes):\n",
    "# sort the correlation dataframe, and exclude cells which represent the same feature (which means: variance and not correlation)\n",
    "\n",
    "labels = list(corr_by_class)\n",
    "for i in range(0, (num_features-1)):\n",
    "    corr_by_class.set_value(labels[i],labels[i],0)\n",
    "    \n",
    "sorted_corr_by_class = corr_by_class.abs().unstack().unstack().sort_values()\n",
    "print 'type of bla is: ', type(sorted_corr_by_class)\n",
    "\n",
    "print(\"The two most correlated features are: \", (list(sorted_corr_by_class.index))[-1])\n",
    "print '''One can notice that the most correlated features are those which measure the same aspect,\n",
    "        and from that reason their correlation is almost 1'''"
   ]
  },
  {
   "cell_type": "code",
   "execution_count": 18,
   "metadata": {
    "collapsed": false
   },
   "outputs": [
    {
     "name": "stdout",
     "output_type": "stream",
     "text": [
      "couples of labels chosen: very high correlation: [tBodyAcc-sma(), tBodyAcc-std()-X], \n",
      "        low correlation: [fBodyGyro-energy()-X, tBodyAcc-arCoeff()-Z,4]\n"
     ]
    },
    {
     "data": {
      "text/plain": [
       "[<matplotlib.lines.Line2D at 0x134d6358>]"
      ]
     },
     "execution_count": 18,
     "metadata": {},
     "output_type": "execute_result"
    },
    {
     "data": {
      "image/png": "[encoded data removed]",
      "text/plain": [
       "<matplotlib.figure.Figure at 0xcc2d0f0>"
      ]
     },
     "metadata": {},
     "output_type": "display_data"
    }
   ],
   "source": [
    "# Question 7:\n",
    "# Use Bootstrap method in order to estimate the variance of the empirical correlation estimators:\n",
    "import pandas as pd\n",
    "\n",
    "samsungData = pd.read_csv('C:\\Technion\\Semester 6\\Inforamtion_Processing\\Tutorial_1\\samsungData.csv')\n",
    "samsungData = samsungData.drop(['Unnamed: 0'], axis=1)\n",
    "num_examples, num_features = samsungData.shape\n",
    "\n",
    "# choose two couples of features, upon which the variance will be estimated:\n",
    "x1 = 'tBodyAcc-sma()'\n",
    "y1 = 'tBodyAcc-std()-X'\n",
    "x2 = 'fBodyGyro-energy()-X'\n",
    "y2 = 'tBodyAcc-arCoeff()-Z,4'\n",
    "\n",
    "x1_org_data = samsungData[x1]\n",
    "y1_org_data = samsungData[y1]\n",
    "x2_org_data = samsungData[x2]\n",
    "y2_org_data = samsungData[y2]\n",
    "\n",
    "print '''couples of labels chosen: very high correlation: [tBodyAcc-sma(), tBodyAcc-std()-X], \n",
    "        low correlation: [fBodyGyro-energy()-X, tBodyAcc-arCoeff()-Z,4]'''\n",
    "\n",
    "# A function used to sample two vectors (with replacement) and calculate their corraletion:\n",
    "def sample_calc_corr(x_data, y_data):\n",
    "    x_samples = x_data.sample(n=num_examples, replace=True)\n",
    "    y_samples = y_data.sample(n=num_examples, replace=True)\n",
    "    corr = x_samples.corr(y_samples)\n",
    "    return corr\n",
    "\n",
    "# A function used to calculate N times the correlation between two vectors, and the matching variance array:\n",
    "def iterate_calc_var(N, x_data, y_data):\n",
    "    corr_arr = []\n",
    "    var_arr = []\n",
    "    for i in range(1,first_couple_iteration):\n",
    "        corr_arr.append(sample_calc_corr(x_data, y_data))\n",
    "        var_arr.append(np.var(corr_arr))\n",
    "    return corr_arr, var_arr\n",
    "    \n",
    "\n",
    "# N times: \n",
    "    # Randomly select data (num_examples) for each feature:\n",
    "    # Compute the correlation for each couple of features\n",
    "    # Compute the empirical variance over the N correlations of each couple of features:\n",
    "first_couple_corr_arr = []\n",
    "first_couple_var_arr = []\n",
    "first_couple_iteration = 500  # will be justified in Question 8\n",
    "second_couple_corr_arr = []\n",
    "second_couple_var_arr = []\n",
    "second_couple_iteration = 500  # will be justified in Question 8\n",
    "\n",
    "# first couple variance:\n",
    "first_couple_corr_arr, first_couple_var_arr = iterate_calc_var(first_couple_iteration, x1_org_data, y1_org_data)\n",
    "    \n",
    "# second couple variance:\n",
    "second_couple_corr_arr, second_couple_var_arr = iterate_calc_var(second_couple_iteration, x2_org_data, y2_org_data)\n",
    "\n",
    "#plt.plot(first_couple_var_arr)\n",
    "plt.plot(second_couple_var_arr)\n",
    "\n",
    "\n",
    "# Do the same process again for two couples of features given a specific class"
   ]
  }
 ],
 "metadata": {
  "kernelspec": {
   "display_name": "Python 2",
   "language": "python",
   "name": "python2"
  },
  "language_info": {
   "codemirror_mode": {
    "name": "ipython",
    "version": 2
   },
   "file_extension": ".py",
   "mimetype": "text/x-python",
   "name": "python",
   "nbconvert_exporter": "python",
   "pygments_lexer": "ipython2",
   "version": "2.7.13"
  }
 },
 "nbformat": 4,
 "nbformat_minor": 2
}
