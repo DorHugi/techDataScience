{
 "cells": [
  {
   "cell_type": "code",
   "execution_count": null,
   "metadata": {
    "collapsed": true
   },
   "outputs": [],
   "source": [
    "Information Processing Wet 1\n",
    "\n",
    "Shaked Meirom, 305258550\n",
    "Dor Hugi, 200952232"
   ]
  },
  {
   "cell_type": "code",
   "execution_count": null,
   "metadata": {
    "collapsed": true
   },
   "outputs": [],
   "source": [
    "%matplotlib inline\n",
    "%load_ext autoreload\n",
    "%autoreload 2"
   ]
  },
  {
   "cell_type": "code",
   "execution_count": null,
   "metadata": {
    "collapsed": false,
    "scrolled": true
   },
   "outputs": [],
   "source": [
    "# Question 3\n",
    "\n",
    "import csv\n",
    "f = open('airports.txt')\n",
    "for row in csv.reader(f):\n",
    "    print(row[1])"
   ]
  },
  {
   "cell_type": "code",
   "execution_count": null,
   "metadata": {
    "collapsed": false
   },
   "outputs": [],
   "source": [
    "import csv\n",
    "f = open('airports.txt')\n",
    "for row in csv.reader(f):\n",
    "    if (row[3] == \"Israel\"):\n",
    "        print(row[1])"
   ]
  },
  {
   "cell_type": "code",
   "execution_count": null,
   "metadata": {
    "collapsed": false
   },
   "outputs": [],
   "source": [
    "import csv\n",
    "count = dict() # create a dictionary that will be used to count airports in every country, by setting the countries as keys.\n",
    "f = open('airports.txt')\n",
    "for row in csv.reader(f):\n",
    "    country = row[3]\n",
    "    if country in count:\n",
    "        count[country]+=1\n",
    "    else:\n",
    "        count[country]=1\n",
    "print count      "
   ]
  },
  {
   "cell_type": "code",
   "execution_count": null,
   "metadata": {
    "collapsed": false
   },
   "outputs": [],
   "source": [
    "# Question 4\n",
    "\n",
    "import math\n",
    "from geo_distance import distance\n",
    "\n",
    "import csv\n",
    "coordinates = dict()                       # A dictionary that holds the coordinates of each airport.\n",
    "f = open('airports.txt')\n",
    "for row in csv.reader(f):\n",
    "    coordinates[row[0]] = [row[6], row[7]] #insert a list of the coordinates of each airport, and set the key to be its ID.\n",
    "\n",
    "routes_length = []                         # A list of all routes' lengths\n",
    "f = open('routes.txt')\n",
    "\n",
    "for row in csv.reader(f):\n",
    "        IDs = [row[3], row[5]]                      # A list of the route's airports' IDs.\n",
    "        if '\\\\N' in IDs:                            # excluding empty lines, which are only a small portion of the total data\n",
    "            continue\n",
    "        try:                                        # another exclusion of empty lines\n",
    "            lat1 = float(coordinates[IDs[0]][0])\n",
    "            long1 = float(coordinates[IDs[0]][1])\n",
    "            lat2 = float(coordinates[IDs[1]][0])\n",
    "            long2 = float(coordinates[IDs[1]][1])\n",
    "        except KeyError:\n",
    "            continue\n",
    "        routes_length.append(distance(lat1, long1, lat2, long2))\n",
    "            \n",
    "import matplotlib.pyplot as plt\n",
    "plt.hist(routes_length, 100)\n",
    "plt.title(\"routes length histogram\")\n",
    "plt.xlabel(\"route length (km)\")\n",
    "plt.ylabel(\"# routes\")\n",
    "plt.style.use('ggplot')\n",
    "plt.show()\n",
    "        \n",
    "\n",
    "        "
   ]
  }
 ],
 "metadata": {
  "celltoolbar": "Raw Cell Format",
  "kernelspec": {
   "display_name": "Python 2",
   "language": "python",
   "name": "python2"
  },
  "language_info": {
   "codemirror_mode": {
    "name": "ipython",
    "version": 2
   },
   "file_extension": ".py",
   "mimetype": "text/x-python",
   "name": "python",
   "nbconvert_exporter": "python",
   "pygments_lexer": "ipython2",
   "version": "2.7.13"
  }
 },
 "nbformat": 4,
 "nbformat_minor": 2
}
